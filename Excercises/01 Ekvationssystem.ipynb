{
 "cells": [
  {
   "cell_type": "code",
   "execution_count": 2,
   "metadata": {},
   "outputs": [],
   "source": [
    "import sympy"
   ]
  },
  {
   "cell_type": "markdown",
   "metadata": {},
   "source": [
    "Matriser\n",
    "- rref: reduced dow echelon form (reducerade trappmedotden)\n",
    "retunns touple with reduced matrix and a touple with pivotcolones (starting with 0)"
   ]
  },
  {
   "cell_type": "code",
   "execution_count": 5,
   "metadata": {},
   "outputs": [
    {
     "name": "stdout",
     "output_type": "stream",
     "text": [
      "(Matrix([\n",
      "[1, -2, 0, 0, 3],\n",
      "[0,  0, 1, 0, 2],\n",
      "[0,  0, 0, 1, 1],\n",
      "[0,  0, 0, 0, 0]]), (0, 2, 3))\n"
     ]
    }
   ],
   "source": [
    "M = sympy.Matrix(\n",
    "    [\n",
    "        [1, -2, 3, 5, 14],\n",
    "        [-2, 4, -5, -10, -26],\n",
    "        [2, -4, 6, 11, 29],\n",
    "        [-1, 2, -2, -5, -12],\n",
    "    ]\n",
    ")\n",
    "print(M.rref())\n"
   ]
  },
  {
   "cell_type": "code",
   "execution_count": 4,
   "metadata": {},
   "outputs": [
    {
     "name": "stdout",
     "output_type": "stream",
     "text": [
      "(Matrix([\n",
      "[1, -2, 0, 0, 2,  2],\n",
      "[0,  0, 1, 0, 1,  2],\n",
      "[0,  0, 0, 1, 2, -1],\n",
      "[0,  0, 0, 0, 0,  0]]), (0, 2, 3))\n"
     ]
    }
   ],
   "source": [
    "# Denna matrix har 3 bundna variabler och 2 fria variabler\n",
    "M2 = sympy.Matrix(\n",
    "    [\n",
    "        [1, -2, -1, 0, 1, 0],\n",
    "        [0, 0, -1, 1, 1, -3],\n",
    "        [-1, 2, 0, 2, 2, -4],\n",
    "        [0, 0, 1, 2, 5, 0],\n",
    "    ]\n",
    ")\n",
    "print(M2.rref())\n"
   ]
  },
  {
   "cell_type": "code",
   "execution_count": 3,
   "metadata": {},
   "outputs": [
    {
     "name": "stdout",
     "output_type": "stream",
     "text": [
      "(Matrix([\n",
      "[1, 0, -1, 0],\n",
      "[0, 1,  2, 0],\n",
      "[0, 0,  0, 1]]), (0, 1, 3))\n"
     ]
    }
   ],
   "source": [
    "# This matrix does not have a solution\n",
    "M3 = sympy.Matrix(\n",
    "    [\n",
    "        [3, 1, -1, 2],\n",
    "        [4, 1, -2, 1],\n",
    "        [2, 1, 0, 0],\n",
    "    ]\n",
    ")\n",
    "print(M3.rref())\n"
   ]
  },
  {
   "cell_type": "code",
   "execution_count": 5,
   "metadata": {},
   "outputs": [
    {
     "name": "stdout",
     "output_type": "stream",
     "text": [
      "(Matrix([\n",
      "[1, 0, 0,  2],\n",
      "[0, 1, 0, -1],\n",
      "[0, 0, 1, -1],\n",
      "[0, 0, 0,  0]]), (0, 1, 2))\n"
     ]
    }
   ],
   "source": [
    "# Ö 1.10\n",
    "M4 = sympy.Matrix(\n",
    "    [\n",
    "        [1, 2, -1, 1],\n",
    "        [3, -1, -2, 9],\n",
    "        [3, 4, 7, -5],\n",
    "        [2, -2, -1, 7],\n",
    "    ]\n",
    ")\n",
    "print(M4.rref())"
   ]
  }
 ],
 "metadata": {
  "kernelspec": {
   "display_name": "Python 3.9.13 ('Linjar-algebra-Dorota-Bjoorn-7S7zYfDI')",
   "language": "python",
   "name": "python3"
  },
  "language_info": {
   "codemirror_mode": {
    "name": "ipython",
    "version": 3
   },
   "file_extension": ".py",
   "mimetype": "text/x-python",
   "name": "python",
   "nbconvert_exporter": "python",
   "pygments_lexer": "ipython3",
   "version": "3.9.13"
  },
  "orig_nbformat": 4,
  "vscode": {
   "interpreter": {
    "hash": "a8cad46cafa30397b700d91b1cc14766a6f0e1c3656b03018809a680ad118cfd"
   }
  }
 },
 "nbformat": 4,
 "nbformat_minor": 2
}
