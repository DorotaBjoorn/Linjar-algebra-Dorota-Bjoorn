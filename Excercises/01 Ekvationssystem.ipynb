{
 "cells": [
  {
   "cell_type": "markdown",
   "metadata": {},
   "source": [
    "# Sympy"
   ]
  },
  {
   "cell_type": "code",
   "execution_count": 5,
   "metadata": {},
   "outputs": [],
   "source": [
    "import sympy"
   ]
  },
  {
   "cell_type": "markdown",
   "metadata": {},
   "source": [
    "Matriser\n",
    "- rref: reduced dow echelon form (reducerade trappmedotden)\n",
    "retunns touple with reduced matrix and a touple with pivotcolones (starting with 0)"
   ]
  },
  {
   "cell_type": "code",
   "execution_count": 6,
   "metadata": {},
   "outputs": [
    {
     "name": "stdout",
     "output_type": "stream",
     "text": [
      "(Matrix([\n",
      "[1, -2, 0, 0, 3],\n",
      "[0,  0, 1, 0, 2],\n",
      "[0,  0, 0, 1, 1],\n",
      "[0,  0, 0, 0, 0]]), (0, 2, 3))\n"
     ]
    }
   ],
   "source": [
    "M = sympy.Matrix(\n",
    "    [\n",
    "        [1, -2, 3, 5, 14],\n",
    "        [-2, 4, -5, -10, -26],\n",
    "        [2, -4, 6, 11, 29],\n",
    "        [-1, 2, -2, -5, -12],\n",
    "    ]\n",
    ")\n",
    "print(M.rref())\n"
   ]
  },
  {
   "cell_type": "code",
   "execution_count": 7,
   "metadata": {},
   "outputs": [
    {
     "name": "stdout",
     "output_type": "stream",
     "text": [
      "(Matrix([\n",
      "[1, -2, 0, 0, 2,  2],\n",
      "[0,  0, 1, 0, 1,  2],\n",
      "[0,  0, 0, 1, 2, -1],\n",
      "[0,  0, 0, 0, 0,  0]]), (0, 2, 3))\n"
     ]
    }
   ],
   "source": [
    "# Denna matrix har 3 bundna variabler och 2 fria variabler\n",
    "M2 = sympy.Matrix(\n",
    "    [\n",
    "        [1, -2, -1, 0, 1, 0],\n",
    "        [0, 0, -1, 1, 1, -3],\n",
    "        [-1, 2, 0, 2, 2, -4],\n",
    "        [0, 0, 1, 2, 5, 0],\n",
    "    ]\n",
    ")\n",
    "print(M2.rref())\n"
   ]
  },
  {
   "cell_type": "code",
   "execution_count": 8,
   "metadata": {},
   "outputs": [
    {
     "name": "stdout",
     "output_type": "stream",
     "text": [
      "(Matrix([\n",
      "[1, 0, -1, 0],\n",
      "[0, 1,  2, 0],\n",
      "[0, 0,  0, 1]]), (0, 1, 3))\n"
     ]
    }
   ],
   "source": [
    "# This matrix does not have a solution\n",
    "M3 = sympy.Matrix(\n",
    "    [\n",
    "        [3, 1, -1, 2],\n",
    "        [4, 1, -2, 1],\n",
    "        [2, 1, 0, 0],\n",
    "    ]\n",
    ")\n",
    "print(M3.rref())\n"
   ]
  },
  {
   "cell_type": "code",
   "execution_count": 9,
   "metadata": {},
   "outputs": [
    {
     "name": "stdout",
     "output_type": "stream",
     "text": [
      "(Matrix([\n",
      "[1, 0, 0,  2],\n",
      "[0, 1, 0, -1],\n",
      "[0, 0, 1, -1],\n",
      "[0, 0, 0,  0]]), (0, 1, 2))\n"
     ]
    }
   ],
   "source": [
    "# Ö 1.10\n",
    "M4 = sympy.Matrix(\n",
    "    [\n",
    "        [1, 2, -1, 1],\n",
    "        [3, -1, -2, 9],\n",
    "        [3, 4, 7, -5],\n",
    "        [2, -2, -1, 7],\n",
    "    ]\n",
    ")\n",
    "print(M4.rref())"
   ]
  },
  {
   "cell_type": "markdown",
   "metadata": {},
   "source": [
    "# Scipy"
   ]
  },
  {
   "cell_type": "code",
   "execution_count": 10,
   "metadata": {},
   "outputs": [],
   "source": [
    "import numpy\n",
    "import scipy.linalg"
   ]
  },
  {
   "cell_type": "markdown",
   "metadata": {},
   "source": [
    "This algoritm can only handle square matrixes (nxn) (with uniqe solution ???)"
   ]
  },
  {
   "cell_type": "code",
   "execution_count": 11,
   "metadata": {},
   "outputs": [
    {
     "name": "stdout",
     "output_type": "stream",
     "text": [
      "[4. 3. 1.]\n"
     ]
    }
   ],
   "source": [
    "A = numpy.array([[1, -2, 3], [2, -4, 7], [-3, 5, -1]])\n",
    "b = numpy.array([1, 3, 2])\n",
    "x = scipy.linalg.solve(A, b)\n",
    "print(x)\n"
   ]
  },
  {
   "cell_type": "code",
   "execution_count": 12,
   "metadata": {},
   "outputs": [
    {
     "ename": "LinAlgError",
     "evalue": "Matrix is singular.",
     "output_type": "error",
     "traceback": [
      "\u001b[1;31m---------------------------------------------------------------------------\u001b[0m",
      "\u001b[1;31mLinAlgError\u001b[0m                               Traceback (most recent call last)",
      "Cell \u001b[1;32mIn[12], line 3\u001b[0m\n\u001b[0;32m      1\u001b[0m A \u001b[39m=\u001b[39m numpy\u001b[39m.\u001b[39marray([[\u001b[39m1\u001b[39m, \u001b[39m-\u001b[39m\u001b[39m2\u001b[39m, \u001b[39m1\u001b[39m], [\u001b[39m2\u001b[39m, \u001b[39m-\u001b[39m\u001b[39m6\u001b[39m, \u001b[39m6\u001b[39m], [\u001b[39m-\u001b[39m\u001b[39m3\u001b[39m, \u001b[39m5\u001b[39m, \u001b[39m-\u001b[39m\u001b[39m1\u001b[39m]])\n\u001b[0;32m      2\u001b[0m b \u001b[39m=\u001b[39m numpy\u001b[39m.\u001b[39marray([\u001b[39m1\u001b[39m, \u001b[39m4\u001b[39m, \u001b[39m-\u001b[39m\u001b[39m2\u001b[39m])\n\u001b[1;32m----> 3\u001b[0m x \u001b[39m=\u001b[39m scipy\u001b[39m.\u001b[39;49mlinalg\u001b[39m.\u001b[39;49msolve(A, b)\n\u001b[0;32m      4\u001b[0m \u001b[39mprint\u001b[39m(x)\n\u001b[0;32m      6\u001b[0m \u001b[39m# returns LinAlgError \"This matix in singular\" since last row reduces to 0y +0z = 0\u001b[39;00m\n",
      "File \u001b[1;32mc:\\Users\\DorotaBjöörn-AI22GBG\\.virtualenvs\\Linjar-algebra-Dorota-Bjoorn-7S7zYfDI\\lib\\site-packages\\scipy\\linalg\\_basic.py:220\u001b[0m, in \u001b[0;36msolve\u001b[1;34m(a, b, sym_pos, lower, overwrite_a, overwrite_b, check_finite, assume_a, transposed)\u001b[0m\n\u001b[0;32m    217\u001b[0m gecon, getrf, getrs \u001b[39m=\u001b[39m get_lapack_funcs((\u001b[39m'\u001b[39m\u001b[39mgecon\u001b[39m\u001b[39m'\u001b[39m, \u001b[39m'\u001b[39m\u001b[39mgetrf\u001b[39m\u001b[39m'\u001b[39m, \u001b[39m'\u001b[39m\u001b[39mgetrs\u001b[39m\u001b[39m'\u001b[39m),\n\u001b[0;32m    218\u001b[0m                                        (a1, b1))\n\u001b[0;32m    219\u001b[0m lu, ipvt, info \u001b[39m=\u001b[39m getrf(a1, overwrite_a\u001b[39m=\u001b[39moverwrite_a)\n\u001b[1;32m--> 220\u001b[0m _solve_check(n, info)\n\u001b[0;32m    221\u001b[0m x, info \u001b[39m=\u001b[39m getrs(lu, ipvt, b1,\n\u001b[0;32m    222\u001b[0m                 trans\u001b[39m=\u001b[39mtrans, overwrite_b\u001b[39m=\u001b[39moverwrite_b)\n\u001b[0;32m    223\u001b[0m _solve_check(n, info)\n",
      "File \u001b[1;32mc:\\Users\\DorotaBjöörn-AI22GBG\\.virtualenvs\\Linjar-algebra-Dorota-Bjoorn-7S7zYfDI\\lib\\site-packages\\scipy\\linalg\\_basic.py:29\u001b[0m, in \u001b[0;36m_solve_check\u001b[1;34m(n, info, lamch, rcond)\u001b[0m\n\u001b[0;32m     26\u001b[0m     \u001b[39mraise\u001b[39;00m \u001b[39mValueError\u001b[39;00m(\u001b[39m'\u001b[39m\u001b[39mLAPACK reported an illegal value in \u001b[39m\u001b[39m{}\u001b[39;00m\u001b[39m-th argument\u001b[39m\u001b[39m'\u001b[39m\n\u001b[0;32m     27\u001b[0m                      \u001b[39m'\u001b[39m\u001b[39m.\u001b[39m\u001b[39m'\u001b[39m\u001b[39m.\u001b[39mformat(\u001b[39m-\u001b[39minfo))\n\u001b[0;32m     28\u001b[0m \u001b[39melif\u001b[39;00m \u001b[39m0\u001b[39m \u001b[39m<\u001b[39m info:\n\u001b[1;32m---> 29\u001b[0m     \u001b[39mraise\u001b[39;00m LinAlgError(\u001b[39m'\u001b[39m\u001b[39mMatrix is singular.\u001b[39m\u001b[39m'\u001b[39m)\n\u001b[0;32m     31\u001b[0m \u001b[39mif\u001b[39;00m lamch \u001b[39mis\u001b[39;00m \u001b[39mNone\u001b[39;00m:\n\u001b[0;32m     32\u001b[0m     \u001b[39mreturn\u001b[39;00m\n",
      "\u001b[1;31mLinAlgError\u001b[0m: Matrix is singular."
     ]
    }
   ],
   "source": [
    "A = numpy.array([[1, -2, 1], [2, -6, 6], [-3, 5, -1]])\n",
    "b = numpy.array([1, 4, -2])\n",
    "x = scipy.linalg.solve(A, b)\n",
    "print(x)\n",
    "\n",
    "# returns LinAlgError \"This matix in singular\" since last row reduces to 0y +0z = 0\n"
   ]
  },
  {
   "cell_type": "markdown",
   "metadata": {},
   "source": [
    "Minsta kvadratmetoden om lösnig saknas"
   ]
  },
  {
   "cell_type": "code",
   "execution_count": 14,
   "metadata": {},
   "outputs": [
    {
     "name": "stdout",
     "output_type": "stream",
     "text": [
      "[8.22740092 9.73638118 1.06575627]\n",
      "0.2671812379394321 3 [182.93177754  50.37946685  15.74401747]\n"
     ]
    }
   ],
   "source": [
    "A = numpy.array([[25, 25, 20], [10, 50, 10], [55, 0, 35], [125, 100, 45]])\n",
    "b = numpy.array([470, 580, 490, 2050])\n",
    "\n",
    "# returns x which is tha approximative solution, *_ is kvargs\n",
    "x, *_ = scipy.linalg.lstsq(A, b)\n",
    "print(x)\n",
    "print(*_) # not sure what this is\n"
   ]
  }
 ],
 "metadata": {
  "kernelspec": {
   "display_name": "Python 3.9.13 ('Linjar-algebra-Dorota-Bjoorn-7S7zYfDI')",
   "language": "python",
   "name": "python3"
  },
  "language_info": {
   "codemirror_mode": {
    "name": "ipython",
    "version": 3
   },
   "file_extension": ".py",
   "mimetype": "text/x-python",
   "name": "python",
   "nbconvert_exporter": "python",
   "pygments_lexer": "ipython3",
   "version": "3.9.13"
  },
  "orig_nbformat": 4,
  "vscode": {
   "interpreter": {
    "hash": "a8cad46cafa30397b700d91b1cc14766a6f0e1c3656b03018809a680ad118cfd"
   }
  }
 },
 "nbformat": 4,
 "nbformat_minor": 2
}
