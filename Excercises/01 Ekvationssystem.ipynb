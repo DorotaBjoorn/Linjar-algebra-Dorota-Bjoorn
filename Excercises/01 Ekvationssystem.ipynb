{
 "cells": [
  {
   "cell_type": "code",
   "execution_count": 3,
   "metadata": {},
   "outputs": [],
   "source": [
    "import sympy"
   ]
  },
  {
   "cell_type": "code",
   "execution_count": 5,
   "metadata": {},
   "outputs": [
    {
     "name": "stdout",
     "output_type": "stream",
     "text": [
      "(Matrix([\n",
      "[1, -2, 0, 0, 3],\n",
      "[0,  0, 1, 0, 2],\n",
      "[0,  0, 0, 1, 1],\n",
      "[0,  0, 0, 0, 0]]), (0, 2, 3))\n"
     ]
    }
   ],
   "source": [
    "M = sympy.Matrix(\n",
    "    [[1, -2, 3, 5, 14], [-2, 4, -5, -10, -26], [2, -4, 6, 11, 29], [-1, 2, -2, -5, -12]]\n",
    ")\n",
    "print(M.rref())\n"
   ]
  },
  {
   "cell_type": "code",
   "execution_count": 7,
   "metadata": {},
   "outputs": [
    {
     "name": "stdout",
     "output_type": "stream",
     "text": [
      "(Matrix([\n",
      "[1, -2, 0, 0, 2,  2],\n",
      "[0,  0, 1, 0, 1,  2],\n",
      "[0,  0, 0, 1, 2, -1],\n",
      "[0,  0, 0, 0, 0,  0]]), (0, 2, 3))\n"
     ]
    }
   ],
   "source": [
    "M2 = sympy.Matrix([[1, -2, -1, 0, 1, 0], [0, 0, -1, 1, 1, -3], [-1, 2, 0, 2, 2, -4], [0, 0, 1, 2, 5, 0]])\n",
    "print(M2.rref())"
   ]
  },
  {
   "cell_type": "code",
   "execution_count": 6,
   "metadata": {},
   "outputs": [
    {
     "name": "stdout",
     "output_type": "stream",
     "text": [
      "(Matrix([\n",
      "[1, 0, -1, 0],\n",
      "[0, 1,  2, 0],\n",
      "[0, 0,  0, 1]]), (0, 1, 3))\n"
     ]
    }
   ],
   "source": [
    "M3 = sympy.Matrix([[3, 1, -1, 2], [4, 1, -2, 1], [2, 1, 0, 0]])\n",
    "print(M3.rref())"
   ]
  }
 ],
 "metadata": {
  "kernelspec": {
   "display_name": "Python 3.9.13 ('Linjar-algebra-Dorota-Bjoorn-7S7zYfDI')",
   "language": "python",
   "name": "python3"
  },
  "language_info": {
   "codemirror_mode": {
    "name": "ipython",
    "version": 3
   },
   "file_extension": ".py",
   "mimetype": "text/x-python",
   "name": "python",
   "nbconvert_exporter": "python",
   "pygments_lexer": "ipython3",
   "version": "3.9.13"
  },
  "orig_nbformat": 4,
  "vscode": {
   "interpreter": {
    "hash": "a8cad46cafa30397b700d91b1cc14766a6f0e1c3656b03018809a680ad118cfd"
   }
  }
 },
 "nbformat": 4,
 "nbformat_minor": 2
}
